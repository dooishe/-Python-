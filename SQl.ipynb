{
  "nbformat": 4,
  "nbformat_minor": 0,
  "metadata": {
    "colab": {
      "provenance": [],
      "authorship_tag": "ABX9TyO7LWKVIlAWdZM/OY/DCsZ5",
      "include_colab_link": true
    },
    "kernelspec": {
      "name": "python3",
      "display_name": "Python 3"
    },
    "language_info": {
      "name": "python"
    }
  },
  "cells": [
    {
      "cell_type": "markdown",
      "metadata": {
        "id": "view-in-github",
        "colab_type": "text"
      },
      "source": [
        "<a href=\"https://colab.research.google.com/github/dooishe/-Python-/blob/main/SQl.ipynb\" target=\"_parent\"><img src=\"https://colab.research.google.com/assets/colab-badge.svg\" alt=\"Open In Colab\"/></a>"
      ]
    },
    {
      "cell_type": "markdown",
      "source": [
        "1.Создание базы данных и таблиц Создайте базу данных library.db и таблицу books с полями:"
      ],
      "metadata": {
        "id": "9b3cUo9iAdcI"
      }
    },
    {
      "cell_type": "markdown",
      "source": [
        "id (PRIMARY KEY, AUTOINCREMENT), title (TEXT, NOT NULL), author (TEXT, NOT NULL), year_published (INTEGER), genre (TEXT)."
      ],
      "metadata": {
        "id": "yha8i_Uwg64N"
      }
    },
    {
      "cell_type": "code",
      "source": [
        "import sqlite3\n",
        "con = sqlite3.connect('library.db')\n",
        "cursor = con.cursor()\n",
        "\n",
        "create_table_query = \"\"\"\n",
        "CREATE TABLE IF NOT EXISTS books (\n",
        "    id INTEGER PRIMARY KEY AUTOINCREMENT,\n",
        "    title TEXT NOT NULL,\n",
        "    author TEXT NOT NULL,\n",
        "    year_published INTEGER,\n",
        "    genre TEXT\n",
        ")\n",
        "\"\"\"\n",
        "cursor.execute(create_table_query)\n",
        "con.commit()"
      ],
      "metadata": {
        "id": "K5TnCa5lg7xH"
      },
      "execution_count": 1,
      "outputs": []
    },
    {
      "cell_type": "markdown",
      "source": [
        "2.Вставка данных Добавьте в таблицу books следующие записи:"
      ],
      "metadata": {
        "id": "q9Q5J4GThEzz"
      }
    },
    {
      "cell_type": "markdown",
      "source": [
        "\"The Great Gatsby\", автор: F. Scott Fitzgerald, год: 1925, жанр: Fiction. \"1984\", автор: George Orwell, год: 1949, жанр: Dystopian. \"To Kill a Mockingbird\", автор: Harper Lee, год: 1960, жанр: Classic."
      ],
      "metadata": {
        "id": "pSO5NQP0hHuC"
      }
    },
    {
      "cell_type": "code",
      "source": [
        "insert_query = \"\"\"\n",
        "INSERT INTO books (title, author, year_published, genre)\n",
        "VALUES(?, ?, ?, ?)\n",
        "\"\"\"\n",
        "_books = [\n",
        "    (\"The Great Gatsby\", \"F. Scott Fitzgerald\",  1925, \"Fiction\"),\n",
        "    (\"To Kill a Mockingbird\", \"Harper Lee\", 1960, \"Classic\"),\n",
        "    (\"1984\", \"George Orwell\", 1949, \"Dystopian\")\n",
        "]\n",
        "\n",
        "cursor.executemany(insert_query, _books)\n",
        "\n",
        "con.commit()"
      ],
      "metadata": {
        "id": "tNiftngphKJB"
      },
      "execution_count": 2,
      "outputs": []
    },
    {
      "cell_type": "markdown",
      "source": [
        "3.Выборка всех данных Напишите запрос, который выбирает все книги из таблицы books"
      ],
      "metadata": {
        "id": "Q6tj5Yd-hOVp"
      }
    },
    {
      "cell_type": "code",
      "source": [
        "select_query = \"\"\"\n",
        "SELECT * FROM books\n",
        "\"\"\"\n",
        "cursor.execute(select_query)\n",
        "data = cursor.fetchall()\n",
        "for item in data:\n",
        "    print(item)"
      ],
      "metadata": {
        "colab": {
          "base_uri": "https://localhost:8080/"
        },
        "id": "vDIaYhsPhPXt",
        "outputId": "34853924-d1b0-43e4-dc4a-a3179eb14794"
      },
      "execution_count": 3,
      "outputs": [
        {
          "output_type": "stream",
          "name": "stdout",
          "text": [
            "(1, 'The Great Gatsby', 'F. Scott Fitzgerald', 1925, 'Fiction')\n",
            "(2, 'To Kill a Mockingbird', 'Harper Lee', 1960, 'Classic')\n",
            "(3, '1984', 'George Orwell', 1949, 'Dystopian')\n"
          ]
        }
      ]
    },
    {
      "cell_type": "markdown",
      "source": [
        "4.Фильтрация данных Выберите все книги, опубликованные после 1950 года."
      ],
      "metadata": {
        "id": "dJS-SPvkh2TS"
      }
    },
    {
      "cell_type": "code",
      "source": [
        "select_query = \"\"\"\n",
        "SELECT * FROM books\n",
        "WHERE year_published > 1950\n",
        "\"\"\"\n",
        "cursor.execute(select_query)\n",
        "data = cursor.fetchall()\n",
        "for item in data:\n",
        "    print(item)"
      ],
      "metadata": {
        "colab": {
          "base_uri": "https://localhost:8080/"
        },
        "id": "hi_YRi7CiDv3",
        "outputId": "6fa3ad70-9ac4-4ea4-b76b-380e289fd9b9"
      },
      "execution_count": 4,
      "outputs": [
        {
          "output_type": "stream",
          "name": "stdout",
          "text": [
            "(2, 'To Kill a Mockingbird', 'Harper Lee', 1960, 'Classic')\n"
          ]
        }
      ]
    },
    {
      "cell_type": "markdown",
      "source": [
        "5.Использование оператора LIKE Найдите все книги, название которых начинается с буквы \"T\"."
      ],
      "metadata": {
        "id": "GCt8gFqSiGd3"
      }
    },
    {
      "cell_type": "code",
      "source": [
        "select_query = \"\"\"\n",
        "SELECT * FROM books\n",
        "WHERE title LIKE 'T%'\n",
        "\"\"\"\n",
        "cursor.execute(select_query)\n",
        "data = cursor.fetchall()\n",
        "for item in data:\n",
        "    print(item)"
      ],
      "metadata": {
        "colab": {
          "base_uri": "https://localhost:8080/"
        },
        "id": "CQM3C4JjiUML",
        "outputId": "b696e253-1378-4e8f-c4ac-f187cbac54f3"
      },
      "execution_count": 5,
      "outputs": [
        {
          "output_type": "stream",
          "name": "stdout",
          "text": [
            "(1, 'The Great Gatsby', 'F. Scott Fitzgerald', 1925, 'Fiction')\n",
            "(2, 'To Kill a Mockingbird', 'Harper Lee', 1960, 'Classic')\n"
          ]
        }
      ]
    },
    {
      "cell_type": "markdown",
      "source": [
        "6.Сортировка данных Отсортируйте книги по году публикации в порядке возрастания."
      ],
      "metadata": {
        "id": "5-ySs5LaiUv7"
      }
    },
    {
      "cell_type": "code",
      "source": [
        "select_query = \"\"\"\n",
        "SELECT * FROM books\n",
        "ORDER BY year_published ASC\n",
        "\"\"\"\n",
        "cursor.execute(select_query)\n",
        "data = cursor.fetchall()\n",
        "for item in data:\n",
        "    print(item)"
      ],
      "metadata": {
        "colab": {
          "base_uri": "https://localhost:8080/"
        },
        "id": "b8dU9M9oiXyE",
        "outputId": "077f4ae5-ba4a-4e21-c0b9-7941e6676ca7"
      },
      "execution_count": 6,
      "outputs": [
        {
          "output_type": "stream",
          "name": "stdout",
          "text": [
            "(1, 'The Great Gatsby', 'F. Scott Fitzgerald', 1925, 'Fiction')\n",
            "(3, '1984', 'George Orwell', 1949, 'Dystopian')\n",
            "(2, 'To Kill a Mockingbird', 'Harper Lee', 1960, 'Classic')\n"
          ]
        }
      ]
    },
    {
      "cell_type": "markdown",
      "source": [
        "7.Ограничение количества строк Выберите первые две книги из таблицы books, отсортированные по названию."
      ],
      "metadata": {
        "id": "Ljs-eHX2iZAQ"
      }
    },
    {
      "cell_type": "code",
      "source": [
        "select_query = \"\"\"\n",
        "SELECT * FROM books\n",
        "ORDER BY year_published ASC\n",
        "LIMIT 2\n",
        "\"\"\"\n",
        "cursor.execute(select_query)\n",
        "data = cursor.fetchall()\n",
        "for item in data:\n",
        "    print(item)"
      ],
      "metadata": {
        "colab": {
          "base_uri": "https://localhost:8080/"
        },
        "id": "KtyYiTf6ieYm",
        "outputId": "943672fa-b050-44f7-87de-44d39d8eda7a"
      },
      "execution_count": 7,
      "outputs": [
        {
          "output_type": "stream",
          "name": "stdout",
          "text": [
            "(1, 'The Great Gatsby', 'F. Scott Fitzgerald', 1925, 'Fiction')\n",
            "(3, '1984', 'George Orwell', 1949, 'Dystopian')\n"
          ]
        }
      ]
    },
    {
      "cell_type": "markdown",
      "source": [
        "8.Агрегатные функции"
      ],
      "metadata": {
        "id": "Wiesc3GVitJo"
      }
    },
    {
      "cell_type": "code",
      "source": [
        "select_query = \"\"\"\n",
        "SELECT COUNT(*) AS total_books FROM books\n",
        "\"\"\"\n",
        "cursor.execute(select_query)\n",
        "res = cursor.fetchone()\n",
        "print(f\"Всего книг: {res[0]}\")"
      ],
      "metadata": {
        "colab": {
          "base_uri": "https://localhost:8080/"
        },
        "id": "LhvAuyO_iuX7",
        "outputId": "0690f9c3-e6d0-4a8c-aad9-1c4ffeb7d3d4"
      },
      "execution_count": 8,
      "outputs": [
        {
          "output_type": "stream",
          "name": "stdout",
          "text": [
            "Всего книг: 3\n"
          ]
        }
      ]
    },
    {
      "cell_type": "markdown",
      "source": [
        "9.Группировка данных Подсчитайте количество книг для каждого жанра."
      ],
      "metadata": {
        "id": "bgu8J0dsiybZ"
      }
    },
    {
      "cell_type": "code",
      "source": [
        "select_query = \"\"\"\n",
        "SELECT genre, COUNT(*) AS count\n",
        "FROM books\n",
        "GROUP BY genre\n",
        "\"\"\"\n",
        "cursor.execute(select_query)\n",
        "data = cursor.fetchall()\n",
        "for item in data:\n",
        "    print(f\"Жанр: {item[0]}, Кол-во: {item[1]}\")"
      ],
      "metadata": {
        "colab": {
          "base_uri": "https://localhost:8080/"
        },
        "id": "nHqbB8cli7y7",
        "outputId": "fd0267df-b5e4-471c-c6b5-b839f78cf452"
      },
      "execution_count": 9,
      "outputs": [
        {
          "output_type": "stream",
          "name": "stdout",
          "text": [
            "Жанр: Classic, Кол-во: 1\n",
            "Жанр: Dystopian, Кол-во: 1\n",
            "Жанр: Fiction, Кол-во: 1\n"
          ]
        }
      ]
    },
    {
      "cell_type": "markdown",
      "source": [
        "10.Обновление данных Обновите год публикации книги \"1984\" на 1948."
      ],
      "metadata": {
        "id": "x80oo77Fi6z_"
      }
    },
    {
      "cell_type": "code",
      "source": [
        "update_query = \"\"\"\n",
        "UPDATE books\n",
        "SET year_published = 1948\n",
        "WHERE title = 1984\n",
        "\"\"\"\n",
        "cursor.execute(update_query)\n",
        "select_query = \"\"\"\n",
        "SELECT * FROM books\n",
        "WHERE title = 1984\n",
        "\"\"\"\n",
        "cursor.execute(select_query)\n",
        "data = cursor.fetchone()\n",
        "print(data)"
      ],
      "metadata": {
        "colab": {
          "base_uri": "https://localhost:8080/"
        },
        "id": "tZu-qKMA_W9Y",
        "outputId": "d13e95d6-0174-43a8-b8ae-f4b4fc61618d"
      },
      "execution_count": 11,
      "outputs": [
        {
          "output_type": "stream",
          "name": "stdout",
          "text": [
            "(3, '1984', 'George Orwell', 1948, 'Dystopian')\n"
          ]
        }
      ]
    },
    {
      "cell_type": "markdown",
      "source": [
        "11.Удаление данных Удалите книгу с названием \"The Great Gatsby\"."
      ],
      "metadata": {
        "id": "8sPG3yxf_cch"
      }
    },
    {
      "cell_type": "code",
      "source": [
        "delete_query = \"\"\"\n",
        "DELETE FROM books\n",
        "WHERE title = 'The Great Gatsby'\n",
        "\"\"\"\n",
        "cursor.execute(delete_query)\n",
        "select_query = \"\"\"\n",
        "SELECT * FROM books\n",
        "\"\"\"\n",
        "cursor.execute(select_query)\n",
        "data = cursor.fetchall()\n",
        "for item in data:\n",
        "    print(item)"
      ],
      "metadata": {
        "colab": {
          "base_uri": "https://localhost:8080/"
        },
        "id": "jN1fv3sN_jQo",
        "outputId": "9386d9e8-972a-4f4a-b81f-d926ffd5017c"
      },
      "execution_count": 12,
      "outputs": [
        {
          "output_type": "stream",
          "name": "stdout",
          "text": [
            "(2, 'To Kill a Mockingbird', 'Harper Lee', 1960, 'Classic')\n",
            "(3, '1984', 'George Orwell', 1948, 'Dystopian')\n"
          ]
        }
      ]
    },
    {
      "cell_type": "markdown",
      "source": [
        "12.Создание индекса Создайте индекс для столбца author в таблице books."
      ],
      "metadata": {
        "id": "wg8bosh9_nMh"
      }
    },
    {
      "cell_type": "code",
      "source": [
        "\n",
        "index_query = \"\"\"\n",
        "CREATE INDEX IF NOT EXISTS idx_books_author\n",
        "ON books (author);\n",
        "\"\"\"\n",
        "cursor.execute(index_query)"
      ],
      "metadata": {
        "colab": {
          "base_uri": "https://localhost:8080/"
        },
        "id": "Gol-Fa8P_pCL",
        "outputId": "2be4fbcc-9840-44af-b777-dcc44426c899"
      },
      "execution_count": 14,
      "outputs": [
        {
          "output_type": "execute_result",
          "data": {
            "text/plain": [
              "<sqlite3.Cursor at 0x7eaee5718fc0>"
            ]
          },
          "metadata": {},
          "execution_count": 14
        }
      ]
    },
    {
      "cell_type": "markdown",
      "source": [
        "13.Проверка существования индекса Проверьте, существует ли индекс для столбца author."
      ],
      "metadata": {
        "id": "BFcNpwJd_qVr"
      }
    },
    {
      "cell_type": "code",
      "source": [
        "check_idx_query = \"\"\"\n",
        "SELECT name FROM sqlite_master WHERE type='index' AND name='idx_books_author'\n",
        "\"\"\"\n",
        "cursor.execute(check_idx_query)\n",
        "result = cursor.fetchone()\n",
        "if result:\n",
        "    print(f\"Индекс '{result[0]}' существует.\")\n",
        "else:\n",
        "    print(\"Индекс не существует.\")"
      ],
      "metadata": {
        "colab": {
          "base_uri": "https://localhost:8080/"
        },
        "id": "T1KdFqHGAwTp",
        "outputId": "f03b65b1-bded-4a91-a335-d87fbad73403"
      },
      "execution_count": 15,
      "outputs": [
        {
          "output_type": "stream",
          "name": "stdout",
          "text": [
            "Индекс 'idx_books_author' существует.\n"
          ]
        }
      ]
    },
    {
      "cell_type": "markdown",
      "source": [
        "14.Триггер для логирования Создайте триггер, который записывает изменения в таблицу logs при добавлении новой книги"
      ],
      "metadata": {
        "id": "ez8dgBAx_u3Z"
      }
    },
    {
      "cell_type": "code",
      "source": [
        "cursor.execute(\"\"\"\n",
        "CREATE TABLE IF NOT EXISTS logs (\n",
        "    id INTEGER PRIMARY KEY AUTOINCREMENT,\n",
        "    book_id INTEGER,\n",
        "    action TEXT,\n",
        "    timestamp DATETIME DEFAULT CURRENT_TIMESTAMP\n",
        ");\n",
        "\"\"\")\n",
        "\n",
        "create_trigger_query = \"\"\"\n",
        "CREATE TRIGGER IF NOT EXISTS log_books_changes\n",
        "AFTER INSERT ON books\n",
        "FOR EACH ROW\n",
        "BEGIN\n",
        "    INSERT INTO logs (book_id, action)\n",
        "    VALUES (NEW.id, 'INSERT');\n",
        "END;\n",
        "\"\"\"\n",
        "cursor.execute(create_trigger_query)\n",
        "\n",
        "insert_query = \"\"\"\n",
        "INSERT INTO books (title, author, year_published, genre)\n",
        "VALUES(?, ?, ?, ?)\n",
        "\"\"\"\n",
        "con.commit()\n",
        "cursor.execute(insert_query, (\"The Great Gatsby\", \"F. Scott Fitzgerald\",  1925, \"Fiction\"))\n",
        "\n",
        "cursor.execute(\"\"\"\n",
        "SELECT * FROM logs\n",
        "\"\"\")\n",
        "_logs = cursor.fetchall()\n",
        "for log in _logs:\n",
        "    print(log)"
      ],
      "metadata": {
        "colab": {
          "base_uri": "https://localhost:8080/"
        },
        "id": "c15ezofD_z-5",
        "outputId": "311545ce-d331-48bc-a79a-c083c1c7b3a9"
      },
      "execution_count": 16,
      "outputs": [
        {
          "output_type": "stream",
          "name": "stdout",
          "text": [
            "(1, 4, 'INSERT', '2025-06-16 18:31:50')\n"
          ]
        }
      ]
    },
    {
      "cell_type": "markdown",
      "source": [
        "15.Транзакции Создайте программу, которая выполняет следующие действия в рамках одной транзакции:\n",
        "Добавляет новую книгу. Обновляет год публикации другой книги. Отменяет изменения, если возникает ошибка."
      ],
      "metadata": {
        "id": "mR2DOySl_0s4"
      }
    },
    {
      "cell_type": "code",
      "source": [
        "try:\n",
        "    cursor.execute('BEGIN TRANSACTION')\n",
        "\n",
        "    cursor.execute(\"\"\"\n",
        "    INSERT INTO books (title, author, year_published, genre)\n",
        "    VALUES(?, ?, ?, ?);\n",
        "    \"\"\", (\"Brave New World\", \"Aldous Huxley\", 1932, \"Dystopian\"))\n",
        "\n",
        "    cursor.execute(\"\"\"\n",
        "    UPDATE books\n",
        "    SET year_published = 2005\n",
        "    WHERE title = 'To Kill a Mockingbird'\n",
        "    \"\"\")\n",
        "    con.commit()\n",
        "except sqlite3.Error as e:\n",
        "    con.rollback()\n",
        "    print(f\"Ошибка: {e}. Изменения отменены.\")\n",
        "\n",
        "cursor.execute(\"\"\"\n",
        "SELECT * FROM books\n",
        "\"\"\")\n",
        "data = cursor.fetchall()\n",
        "for item in data:\n",
        "    print(item)"
      ],
      "metadata": {
        "colab": {
          "base_uri": "https://localhost:8080/"
        },
        "id": "5ROb8XK9_9PY",
        "outputId": "d2491eaf-f2df-4d24-f60f-dcfe27a5f0d0"
      },
      "execution_count": 18,
      "outputs": [
        {
          "output_type": "stream",
          "name": "stdout",
          "text": [
            "(2, 'To Kill a Mockingbird', 'Harper Lee', 2005, 'Classic')\n",
            "(3, '1984', 'George Orwell', 1948, 'Dystopian')\n",
            "(4, 'Brave New World', 'Aldous Huxley', 1932, 'Dystopian')\n"
          ]
        }
      ]
    },
    {
      "cell_type": "markdown",
      "source": [
        "16.Пользовательская функция Создайте пользовательскую функцию на Python, которая вычисляет возраст книги (текущий год минус год публикации), и используйте её в SQL-запросе."
      ],
      "metadata": {
        "id": "TT70uQ5A_-GI"
      }
    },
    {
      "cell_type": "code",
      "source": [
        "from datetime import datetime\n",
        "\n",
        "def calculate_age(year_published):\n",
        "    curr_year = datetime.now().year\n",
        "    return curr_year - year_published\n",
        "\n",
        "con.create_function(\"book_age\", 1, calculate_age)\n",
        "\n",
        "cursor.execute('''\n",
        "SELECT title, year_published, book_age(year_published)\n",
        "FROM books\n",
        "''')\n",
        "for row in cursor.fetchall():\n",
        "    print(f\"Книга: {row[0]}, год: {row[1]}, возраст: {row[2]}\")"
      ],
      "metadata": {
        "colab": {
          "base_uri": "https://localhost:8080/"
        },
        "id": "zomOIV19AEJ4",
        "outputId": "402a52f7-00ad-45e1-d98f-71b45ea845b0"
      },
      "execution_count": 19,
      "outputs": [
        {
          "output_type": "stream",
          "name": "stdout",
          "text": [
            "Книга: To Kill a Mockingbird, год: 2005, возраст: 20\n",
            "Книга: 1984, год: 1948, возраст: 77\n",
            "Книга: Brave New World, год: 1932, возраст: 93\n"
          ]
        }
      ]
    },
    {
      "cell_type": "markdown",
      "source": [
        "17.Представления Создайте представление modern_books, которое содержит книги, опубликованные после 1950 года."
      ],
      "metadata": {
        "id": "sqCBMCaSAE3M"
      }
    },
    {
      "cell_type": "code",
      "source": [
        "cursor.execute('''\n",
        "CREATE VIEW IF NOT EXISTS modern_books AS\n",
        "SELECT * FROM books WHERE year_published > 1950\n",
        "''')\n",
        "con.commit()\n",
        "\n",
        "cursor.execute('SELECT * FROM modern_books')\n",
        "modern_books = cursor.fetchall()\n",
        "\n",
        "\n",
        "for book in modern_books:\n",
        "    print(book)"
      ],
      "metadata": {
        "colab": {
          "base_uri": "https://localhost:8080/"
        },
        "id": "F0norw8LAHwG",
        "outputId": "faa78a97-731d-470b-e03d-0746aaa9c97c"
      },
      "execution_count": 20,
      "outputs": [
        {
          "output_type": "stream",
          "name": "stdout",
          "text": [
            "(2, 'To Kill a Mockingbird', 'Harper Lee', 2005, 'Classic')\n"
          ]
        }
      ]
    },
    {
      "cell_type": "markdown",
      "source": [
        "18.Удаление таблицы Удалите таблицу books и проверьте её существование"
      ],
      "metadata": {
        "id": "aXtrN6VvAI0N"
      }
    },
    {
      "cell_type": "code",
      "source": [
        "cursor.execute('DROP TABLE IF EXISTS books')\n",
        "\n",
        "select_query = \"\"\"\n",
        "SELECT * FROM books\n",
        "\"\"\"\n",
        "\n",
        "try:\n",
        "    data = cursor.execute(select_query)\n",
        "    for item in data:\n",
        "        print(item)\n",
        "except Exception:\n",
        "    print(\"Таблицы не существует\")\n",
        "\n",
        "con.close()"
      ],
      "metadata": {
        "id": "DeYrcKkrAK3I"
      },
      "execution_count": 28,
      "outputs": []
    },
    {
      "cell_type": "markdown",
      "source": [
        "19.\n",
        "Композитный индекс Создайте композитный индекс для столбцов author и year_published в таблице books."
      ],
      "metadata": {
        "id": "cgDxY0NFARgm"
      }
    },
    {
      "cell_type": "code",
      "source": [
        "cursor.execute('''\n",
        "CREATE INDEX IF NOT EXISTS idx_author_year\n",
        "ON books (author, year_published)\n",
        "''')\n",
        "con.commit()\n",
        "con.close()"
      ],
      "metadata": {
        "id": "_UT2PGX4ASt1"
      },
      "execution_count": 28,
      "outputs": []
    },
    {
      "cell_type": "markdown",
      "source": [
        "20.Удаление базы данных Напишите программу, которая удаляет файл базы данных library.db, если он существует."
      ],
      "metadata": {
        "id": "EPLCvWrXAUHc"
      }
    },
    {
      "cell_type": "code",
      "source": [
        "import os\n",
        "\n",
        "db_file = 'library.db'\n",
        "\n",
        "if os.path.exists(db_file):\n",
        "    print(f\"Удаляем базу данных '{db_file}'...\")\n",
        "    os.remove(db_file)\n",
        "else:\n",
        "    print(f\"База данных '{db_file}' не существует.\")"
      ],
      "metadata": {
        "colab": {
          "base_uri": "https://localhost:8080/"
        },
        "id": "c_45blfPAW3f",
        "outputId": "f1f26340-51ce-46eb-af20-92e7d81c686c"
      },
      "execution_count": 27,
      "outputs": [
        {
          "output_type": "stream",
          "name": "stdout",
          "text": [
            "Удаляем базу данных 'library.db'...\n"
          ]
        }
      ]
    }
  ]
}